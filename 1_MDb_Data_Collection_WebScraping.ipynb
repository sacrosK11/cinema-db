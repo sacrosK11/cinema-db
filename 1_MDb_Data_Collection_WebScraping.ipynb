{
 "cells": [
  {
   "cell_type": "code",
   "execution_count": null,
   "metadata": {
    "tags": []
   },
   "outputs": [],
   "source": [
    "import requests\n",
    "from bs4 import BeautifulSoup\n",
    "import pandas as pd\n",
    "pd.options.display.max_colwidth = 1000"
   ]
  },
  {
   "cell_type": "markdown",
   "metadata": {},
   "source": [
    "Let's create the first database made only by titles from the boxofficemojo website to work with movies only."
   ]
  },
  {
   "cell_type": "code",
   "execution_count": null,
   "metadata": {},
   "outputs": [],
   "source": [
    "new_results = []\n",
    "for year in range(1921, 2024):  # FROM-TO IN YEARS\n",
    "    for month in range(1, 13):  # 12 MONTHS\n",
    "        html_data = requests.get(f'https://www.boxofficemojo.com/calendar/'\n",
    "                                 f'{year}-{month}-01/').text'\n",
    "\n",
    "        soup = BeautifulSoup(html_data, 'html.parser')\n",
    "        # split row and columns using HTML tags and extract titles\n",
    "        for row in soup.find_all('div')[0].find_all('tr'):\n",
    "            col = row.find_all('td')\n",
    "            if (col != []):\n",
    "                title = (\n",
    "                        col[0].text.strip()\n",
    "                        .replace('\\n', '')\n",
    "                        .replace(' '*12, '+')\n",
    "                        .replace(',', '-')\n",
    "                        .replace(\"'\", '')\n",
    "                        .split('+')[0]\n",
    "                    )\n",
    "\n",
    "                # Adjust re-releases titles\n",
    "                if 'Release' in title or 'release' in title:\n",
    "                    for c in title:\n",
    "                        if c.isdigit():\n",
    "                            title = title.split(c)[0].strip()\n",
    "                            break\n",
    "                        else:\n",
    "                            continue\n",
    "\n",
    "                # extract data and store it in a dictionary\n",
    "                new_results.append({'Title': title})\n",
    "    print(f'{year} completed.')"
   ]
  },
  {
   "cell_type": "code",
   "execution_count": null,
   "metadata": {},
   "outputs": [],
   "source": [
    "updated_results = pd.DataFrame(new_results)\n",
    "print(updated_results.describe())"
   ]
  },
  {
   "cell_type": "code",
   "execution_count": null,
   "metadata": {},
   "outputs": [],
   "source": [
    "# append last year to csv\n",
    "updated_results.to_csv('1920-2023_MoviesDatabase.csv', mode='a',\n",
    "                       index=False, header=False)\n",
    "print('file saved')"
   ]
  },
  {
   "cell_type": "code",
   "execution_count": null,
   "metadata": {},
   "outputs": [],
   "source": [
    "# overwrite all the csv with the updated DataFrame\n",
    "updated_results.to_csv('1920-2023_MoviesDatabase.csv', index=False)\n",
    "print('file saved')"
   ]
  },
  {
   "cell_type": "code",
   "execution_count": null,
   "metadata": {
    "tags": []
   },
   "outputs": [],
   "source": [
    "file = pd.read_csv('1920-2023_MoviesDatabase.csv')"
   ]
  }
 ],
 "metadata": {
  "kernelspec": {
   "display_name": "Python 3 (ipykernel)",
   "language": "python",
   "name": "python3"
  },
  "language_info": {
   "codemirror_mode": {
    "name": "ipython",
    "version": 3
   },
   "file_extension": ".py",
   "mimetype": "text/x-python",
   "name": "python",
   "nbconvert_exporter": "python",
   "pygments_lexer": "ipython3",
   "version": "3.11.2"
  },
  "vscode": {
   "interpreter": {
    "hash": "adca7a6ec868bb0688ae2dbc725b5bf434b7ec4b739cb0f86e19a3d4260ceffc"
   }
  }
 },
 "nbformat": 4,
 "nbformat_minor": 4
}
