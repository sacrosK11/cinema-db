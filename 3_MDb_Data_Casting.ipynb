{
 "cells": [
  {
   "cell_type": "code",
   "execution_count": 1,
   "id": "0a46eae3-cd22-402a-8caf-74b41f65bc2e",
   "metadata": {
    "tags": []
   },
   "outputs": [],
   "source": [
    "import pandas as pd\n",
    "import datetime\n",
    "import matplotlib.pyplot as plt\n",
    "from matplotlib.ticker import MultipleLocator\n",
    "from matplotlib.ticker import ScalarFormatter"
   ]
  },
  {
   "cell_type": "code",
   "execution_count": 2,
   "id": "5c67de25-57dd-4fcb-8d71-4e5b1ac1211c",
   "metadata": {
    "tags": []
   },
   "outputs": [],
   "source": [
    "file = pd.read_csv('2023_Movies_DB.csv')"
   ]
  },
  {
   "cell_type": "code",
   "execution_count": 3,
   "id": "e5fd6b47-2e1f-48fc-b2b3-d6560df8547f",
   "metadata": {
    "tags": []
   },
   "outputs": [],
   "source": [
    "# Cast the columnns\n",
    "def convert_date(released):\n",
    "    try:\n",
    "        return datetime.datetime.strptime(released, \"%Y-%m-%d\").date()\n",
    "    except:\n",
    "        return\n",
    "\n",
    "\n",
    "def convert_runtime(runtime):\n",
    "    try:\n",
    "        return int(runtime)\n",
    "    except ValueError:\n",
    "        return None \n",
    "\n",
    "\n",
    "def convert_imdb(imdb):\n",
    "    try:\n",
    "        return int(imdb.replace(\",\", \"\"))\n",
    "    except:\n",
    "        return None\n",
    "\n",
    "\n",
    "def convert_boxoffice(boxoffice):\n",
    "    try:\n",
    "        return float(boxoffice.replace(\"$\", \"\").replace(\",\", \"\"))\n",
    "    except:\n",
    "        return None\n",
    "\n",
    "\n",
    "def convert_rotten(rotten):\n",
    "    try:\n",
    "        return float(rotten)\n",
    "    except TypeError:\n",
    "        return None\n",
    "\n",
    "\n",
    "def convert_meta(meta):\n",
    "    try:\n",
    "        return float(meta)\n",
    "    except TypeError:\n",
    "        return None\n",
    "\n",
    "\n",
    "def convert_budget(budget):\n",
    "    try:\n",
    "        return float(budget)\n",
    "    except TypeError:\n",
    "        return None\n",
    "\n",
    "\n",
    "# Applica la funzione di conversione alla colonna \"Runtime\"\n",
    "file[\"Released\"] = file[\"Released\"].apply(convert_date)\n",
    "file[\"Runtime\"] = file[\"Runtime\"].apply(convert_runtime)\n",
    "file[\"imdbVotes\"] = file[\"imdbVotes\"].apply(convert_imdb)\n",
    "file[\"BoxOffice\"] = file[\"BoxOffice\"].apply(convert_boxoffice)\n",
    "file[\"RottenTomatoesRating\"] = file[\"Rotten Tomatoes Rating\"].apply(convert_rotten)\n",
    "file[\"MetacriticRating\"] = file[\"Metacritic Rating\"].apply(convert_meta)\n",
    "file[\"Budget\"] = file[\"Budget\"].apply(convert_meta)"
   ]
  },
  {
   "cell_type": "code",
   "execution_count": 4,
   "id": "7dd46e28-e3f7-44f0-a068-786cec264697",
   "metadata": {
    "tags": []
   },
   "outputs": [
    {
     "data": {
      "text/html": [
       "<div>\n",
       "<style scoped>\n",
       "    .dataframe tbody tr th:only-of-type {\n",
       "        vertical-align: middle;\n",
       "    }\n",
       "\n",
       "    .dataframe tbody tr th {\n",
       "        vertical-align: top;\n",
       "    }\n",
       "\n",
       "    .dataframe thead th {\n",
       "        text-align: right;\n",
       "    }\n",
       "</style>\n",
       "<table border=\"1\" class=\"dataframe\">\n",
       "  <thead>\n",
       "    <tr style=\"text-align: right;\">\n",
       "      <th></th>\n",
       "      <th>Title</th>\n",
       "      <th>Released</th>\n",
       "      <th>Runtime</th>\n",
       "      <th>Genre</th>\n",
       "      <th>Director</th>\n",
       "      <th>Writer</th>\n",
       "      <th>Actors</th>\n",
       "      <th>Plot</th>\n",
       "      <th>Country</th>\n",
       "      <th>Awards</th>\n",
       "      <th>...</th>\n",
       "      <th>imdbRating</th>\n",
       "      <th>imdbVotes</th>\n",
       "      <th>imdbID</th>\n",
       "      <th>BoxOffice</th>\n",
       "      <th>Production</th>\n",
       "      <th>Rotten Tomatoes Rating</th>\n",
       "      <th>Metacritic Rating</th>\n",
       "      <th>Budget</th>\n",
       "      <th>RottenTomatoesRating</th>\n",
       "      <th>MetacriticRating</th>\n",
       "    </tr>\n",
       "  </thead>\n",
       "  <tbody>\n",
       "    <tr>\n",
       "      <th>0</th>\n",
       "      <td>The Four Horsemen of the Apocalypse</td>\n",
       "      <td>1921-04-01</td>\n",
       "      <td>150.0</td>\n",
       "      <td>Drama, Romance, War</td>\n",
       "      <td>Rex Ingram</td>\n",
       "      <td>Vicente Blasco Ibáñez, June Mathis</td>\n",
       "      <td>Rudolph Valentino, Alice Terry, Pomeroy Cannon</td>\n",
       "      <td>An extended family split up in France and Germ...</td>\n",
       "      <td>United States</td>\n",
       "      <td>1 win</td>\n",
       "      <td>...</td>\n",
       "      <td>7.2</td>\n",
       "      <td>3432.0</td>\n",
       "      <td>tt0012190</td>\n",
       "      <td>9183673.0</td>\n",
       "      <td>Metro Pictures Corporation</td>\n",
       "      <td>8.0</td>\n",
       "      <td>NaN</td>\n",
       "      <td>0.0</td>\n",
       "      <td>8.0</td>\n",
       "      <td>NaN</td>\n",
       "    </tr>\n",
       "    <tr>\n",
       "      <th>1</th>\n",
       "      <td>The Cabinet of Dr. Caligari</td>\n",
       "      <td>1920-02-27</td>\n",
       "      <td>67.0</td>\n",
       "      <td>Horror, Mystery, Thriller</td>\n",
       "      <td>Robert Wiene</td>\n",
       "      <td>Carl Mayer, Hans Janowitz</td>\n",
       "      <td>Werner Krauss, Conrad Veidt, Friedrich Feher</td>\n",
       "      <td>Hypnotist Dr. Caligari uses a somnambulist, Ce...</td>\n",
       "      <td>Germany</td>\n",
       "      <td>1 win &amp; 1 nomination</td>\n",
       "      <td>...</td>\n",
       "      <td>8.0</td>\n",
       "      <td>66385.0</td>\n",
       "      <td>tt0010323</td>\n",
       "      <td>8811.0</td>\n",
       "      <td>Decla Film Gesellschaft Holz &amp; Co.</td>\n",
       "      <td>9.6</td>\n",
       "      <td>NaN</td>\n",
       "      <td>18000.0</td>\n",
       "      <td>9.6</td>\n",
       "      <td>NaN</td>\n",
       "    </tr>\n",
       "    <tr>\n",
       "      <th>2</th>\n",
       "      <td>Deception</td>\n",
       "      <td>2008-04-25</td>\n",
       "      <td>107.0</td>\n",
       "      <td>Crime, Drama, Mystery</td>\n",
       "      <td>Marcel Langenegger</td>\n",
       "      <td>Mark Bomback</td>\n",
       "      <td>Hugh Jackman, Ewan McGregor, Michelle Williams</td>\n",
       "      <td>An accountant is introduced to a mysterious se...</td>\n",
       "      <td>United States</td>\n",
       "      <td>2 wins &amp; 1 nomination</td>\n",
       "      <td>...</td>\n",
       "      <td>6.0</td>\n",
       "      <td>40122.0</td>\n",
       "      <td>tt0800240</td>\n",
       "      <td>4598506.0</td>\n",
       "      <td>Dune Entertainment III</td>\n",
       "      <td>1.1</td>\n",
       "      <td>3.1</td>\n",
       "      <td>25000000.0</td>\n",
       "      <td>1.1</td>\n",
       "      <td>3.1</td>\n",
       "    </tr>\n",
       "    <tr>\n",
       "      <th>3</th>\n",
       "      <td>Sumurun</td>\n",
       "      <td>1921-09-25</td>\n",
       "      <td>85.0</td>\n",
       "      <td>Adventure, Drama, Romance</td>\n",
       "      <td>Ernst Lubitsch</td>\n",
       "      <td>Friedrich Freksa, Hanns Kräly, Ernst Lubitsch</td>\n",
       "      <td>Ernst Lubitsch, Pola Negri, Paul Wegener</td>\n",
       "      <td>The favorite slave girl of a tyrannical sheik ...</td>\n",
       "      <td>Germany</td>\n",
       "      <td>NaN</td>\n",
       "      <td>...</td>\n",
       "      <td>6.1</td>\n",
       "      <td>770.0</td>\n",
       "      <td>tt0011742</td>\n",
       "      <td>NaN</td>\n",
       "      <td>Projektions-AG Union (PAGU)</td>\n",
       "      <td>NaN</td>\n",
       "      <td>NaN</td>\n",
       "      <td>0.0</td>\n",
       "      <td>NaN</td>\n",
       "      <td>NaN</td>\n",
       "    </tr>\n",
       "    <tr>\n",
       "      <th>4</th>\n",
       "      <td>The Gold Rush</td>\n",
       "      <td>1925-07-13</td>\n",
       "      <td>95.0</td>\n",
       "      <td>Adventure, Comedy, Drama</td>\n",
       "      <td>Charles Chaplin</td>\n",
       "      <td>Charles Chaplin</td>\n",
       "      <td>Charles Chaplin, Mack Swain, Tom Murray</td>\n",
       "      <td>A prospector goes to the Klondike during the 1...</td>\n",
       "      <td>United States</td>\n",
       "      <td>Nominated for 2 Oscars. 3 wins &amp; 3 nominations...</td>\n",
       "      <td>...</td>\n",
       "      <td>8.1</td>\n",
       "      <td>113594.0</td>\n",
       "      <td>tt0015864</td>\n",
       "      <td>NaN</td>\n",
       "      <td>Charles Chaplin Productions</td>\n",
       "      <td>10.0</td>\n",
       "      <td>NaN</td>\n",
       "      <td>923000.0</td>\n",
       "      <td>10.0</td>\n",
       "      <td>NaN</td>\n",
       "    </tr>\n",
       "  </tbody>\n",
       "</table>\n",
       "<p>5 rows × 21 columns</p>\n",
       "</div>"
      ],
      "text/plain": [
       "                                 Title    Released  Runtime  \\\n",
       "0  The Four Horsemen of the Apocalypse  1921-04-01    150.0   \n",
       "1          The Cabinet of Dr. Caligari  1920-02-27     67.0   \n",
       "2                            Deception  2008-04-25    107.0   \n",
       "3                              Sumurun  1921-09-25     85.0   \n",
       "4                        The Gold Rush  1925-07-13     95.0   \n",
       "\n",
       "                       Genre            Director  \\\n",
       "0        Drama, Romance, War          Rex Ingram   \n",
       "1  Horror, Mystery, Thriller        Robert Wiene   \n",
       "2      Crime, Drama, Mystery  Marcel Langenegger   \n",
       "3  Adventure, Drama, Romance      Ernst Lubitsch   \n",
       "4   Adventure, Comedy, Drama     Charles Chaplin   \n",
       "\n",
       "                                          Writer  \\\n",
       "0             Vicente Blasco Ibáñez, June Mathis   \n",
       "1                      Carl Mayer, Hans Janowitz   \n",
       "2                                   Mark Bomback   \n",
       "3  Friedrich Freksa, Hanns Kräly, Ernst Lubitsch   \n",
       "4                                Charles Chaplin   \n",
       "\n",
       "                                           Actors  \\\n",
       "0  Rudolph Valentino, Alice Terry, Pomeroy Cannon   \n",
       "1    Werner Krauss, Conrad Veidt, Friedrich Feher   \n",
       "2  Hugh Jackman, Ewan McGregor, Michelle Williams   \n",
       "3        Ernst Lubitsch, Pola Negri, Paul Wegener   \n",
       "4         Charles Chaplin, Mack Swain, Tom Murray   \n",
       "\n",
       "                                                Plot        Country  \\\n",
       "0  An extended family split up in France and Germ...  United States   \n",
       "1  Hypnotist Dr. Caligari uses a somnambulist, Ce...        Germany   \n",
       "2  An accountant is introduced to a mysterious se...  United States   \n",
       "3  The favorite slave girl of a tyrannical sheik ...        Germany   \n",
       "4  A prospector goes to the Klondike during the 1...  United States   \n",
       "\n",
       "                                              Awards  ... imdbRating  \\\n",
       "0                                              1 win  ...        7.2   \n",
       "1                               1 win & 1 nomination  ...        8.0   \n",
       "2                              2 wins & 1 nomination  ...        6.0   \n",
       "3                                                NaN  ...        6.1   \n",
       "4  Nominated for 2 Oscars. 3 wins & 3 nominations...  ...        8.1   \n",
       "\n",
       "   imdbVotes     imdbID  BoxOffice                          Production  \\\n",
       "0     3432.0  tt0012190  9183673.0          Metro Pictures Corporation   \n",
       "1    66385.0  tt0010323     8811.0  Decla Film Gesellschaft Holz & Co.   \n",
       "2    40122.0  tt0800240  4598506.0              Dune Entertainment III   \n",
       "3      770.0  tt0011742        NaN         Projektions-AG Union (PAGU)   \n",
       "4   113594.0  tt0015864        NaN         Charles Chaplin Productions   \n",
       "\n",
       "  Rotten Tomatoes Rating  Metacritic Rating      Budget  RottenTomatoesRating  \\\n",
       "0                    8.0                NaN         0.0                   8.0   \n",
       "1                    9.6                NaN     18000.0                   9.6   \n",
       "2                    1.1                3.1  25000000.0                   1.1   \n",
       "3                    NaN                NaN         0.0                   NaN   \n",
       "4                   10.0                NaN    923000.0                  10.0   \n",
       "\n",
       "   MetacriticRating  \n",
       "0               NaN  \n",
       "1               NaN  \n",
       "2               3.1  \n",
       "3               NaN  \n",
       "4               NaN  \n",
       "\n",
       "[5 rows x 21 columns]"
      ]
     },
     "execution_count": 4,
     "metadata": {},
     "output_type": "execute_result"
    }
   ],
   "source": [
    "file.head()"
   ]
  },
  {
   "cell_type": "code",
   "execution_count": 5,
   "id": "9534cb2d-de47-4ca2-ab65-8bb7b1a90fb3",
   "metadata": {
    "tags": []
   },
   "outputs": [
    {
     "data": {
      "text/plain": [
       "Title                      object\n",
       "Released                   object\n",
       "Runtime                   float64\n",
       "Genre                      object\n",
       "Director                   object\n",
       "Writer                     object\n",
       "Actors                     object\n",
       "Plot                       object\n",
       "Country                    object\n",
       "Awards                     object\n",
       "Poster                     object\n",
       "imdbRating                float64\n",
       "imdbVotes                 float64\n",
       "imdbID                     object\n",
       "BoxOffice                 float64\n",
       "Production                 object\n",
       "Rotten Tomatoes Rating    float64\n",
       "Metacritic Rating         float64\n",
       "Budget                    float64\n",
       "dtype: object"
      ]
     },
     "execution_count": 5,
     "metadata": {},
     "output_type": "execute_result"
    }
   ],
   "source": [
    "file.dtypes"
   ]
  },
  {
   "cell_type": "code",
   "execution_count": 5,
   "id": "892d1532-544e-49fd-bdf7-a13e91b6fc6b",
   "metadata": {
    "tags": []
   },
   "outputs": [
    {
     "data": {
      "text/plain": [
       "(18682, 21)"
      ]
     },
     "execution_count": 5,
     "metadata": {},
     "output_type": "execute_result"
    }
   ],
   "source": [
    "file.shape"
   ]
  },
  {
   "cell_type": "code",
   "execution_count": 8,
   "id": "244981f3-0577-428b-8920-c1fc3614556c",
   "metadata": {
    "tags": []
   },
   "outputs": [
    {
     "data": {
      "text/plain": [
       "Title                        0\n",
       "Released                   160\n",
       "Runtime                    144\n",
       "Genre                        8\n",
       "Director                   350\n",
       "Writer                    1050\n",
       "Actors                     218\n",
       "Plot                        93\n",
       "Country                     67\n",
       "Awards                    4173\n",
       "Poster                      71\n",
       "imdbRating                 189\n",
       "imdbVotes                  122\n",
       "imdbID                       0\n",
       "BoxOffice                 2690\n",
       "Production                2443\n",
       "Rotten Tomatoes Rating    3486\n",
       "Metacritic Rating         5863\n",
       "Budget                     423\n",
       "RottenTomatoesRating      3486\n",
       "MetacriticRating          5863\n",
       "dtype: int64"
      ]
     },
     "execution_count": 8,
     "metadata": {},
     "output_type": "execute_result"
    }
   ],
   "source": [
    "file.dropna(axis=0, subset=['Title'], inplace=True)\n",
    "file.isna().sum()"
   ]
  },
  {
   "cell_type": "code",
   "execution_count": 9,
   "id": "708e65f4-e90c-4d77-afa1-e4f4e46e83a7",
   "metadata": {},
   "outputs": [
    {
     "data": {
      "text/plain": [
       "(18682, 21)"
      ]
     },
     "execution_count": 9,
     "metadata": {},
     "output_type": "execute_result"
    }
   ],
   "source": [
    "file.shape"
   ]
  },
  {
   "cell_type": "code",
   "execution_count": 10,
   "id": "0e9373f3-a129-4b46-ad77-0e0027bda066",
   "metadata": {
    "tags": []
   },
   "outputs": [],
   "source": [
    "file.to_csv('CLEAN 2023_Movies_DB.csv', index=False)"
   ]
  },
  {
   "cell_type": "code",
   "execution_count": null,
   "id": "338bb274",
   "metadata": {},
   "outputs": [],
   "source": []
  }
 ],
 "metadata": {
  "kernelspec": {
   "display_name": "Python 3 (ipykernel)",
   "language": "python",
   "name": "python3"
  },
  "language_info": {
   "codemirror_mode": {
    "name": "ipython",
    "version": 3
   },
   "file_extension": ".py",
   "mimetype": "text/x-python",
   "name": "python",
   "nbconvert_exporter": "python",
   "pygments_lexer": "ipython3",
   "version": "3.10.12"
  }
 },
 "nbformat": 4,
 "nbformat_minor": 5
}
